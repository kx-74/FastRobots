{
 "cells": [
  {
   "cell_type": "markdown",
   "metadata": {
    "tags": []
   },
   "source": [
    "# Lab 11: Grid Localization using Bayes Filter (Real Robot)\n",
    "\n",
    "### <span style=\"color:rgb(0,150,0)\">It is recommended that you close any heavy-duty applications running on your system while working on this lab.</span>\n",
    "\n",
    "### <span style=\"color:rgb(0,150,0)\">The notebook only provides skeleton code for you to integrate the Localization class with the Real Robot.</span>\n",
    "\n",
    "<hr>"
   ]
  },
  {
   "cell_type": "code",
   "execution_count": 2,
   "metadata": {},
   "outputs": [
    {
     "name": "stdout",
     "output_type": "stream",
     "text": [
      "2024-04-30 16:37:47,253 |\u001b[32m INFO     \u001b[0m|: Logger demo_notebook.log initialized.\n"
     ]
    }
   ],
   "source": [
    "%load_ext autoreload\n",
    "%autoreload 2\n",
    "\n",
    "import traceback\n",
    "from notebook_utils import *\n",
    "from Traj import *\n",
    "import asyncio\n",
    "import pathlib\n",
    "import os\n",
    "from utils import load_config_params\n",
    "from localization_extras import Localization\n",
    "\n",
    "# The imports below will only work if you copied the required ble-related python files \n",
    "# into the notebooks directory\n",
    "from ble import get_ble_controller\n",
    "from base_ble import LOG\n",
    "from cmd_types import CMD\n",
    "import numpy as np\n",
    "\n",
    "# Setup Logger\n",
    "LOG = get_logger('demo_notebook.log')\n",
    "LOG.propagate = False\n",
    "\n",
    "# Init GUI and Commander\n",
    "gui = GET_GUI()\n",
    "cmdr = gui.launcher.commander"
   ]
  },
  {
   "cell_type": "code",
   "execution_count": 3,
   "metadata": {},
   "outputs": [],
   "source": [
    "# Start the plotter\n",
    "START_PLOTTER()"
   ]
  },
  {
   "cell_type": "markdown",
   "metadata": {},
   "source": [
    "# The RealRobot class\n",
    "Define the RealRobot class in the code cell below, based on the documentation and your real robot communication protocol. <br>\n",
    "This class is used by the **Localization** class to communicate with the real robot. <br>\n",
    "More specifically, the **Localization** class utilizes the **RealRobot's** member function **perform_observation_loop()** to get the 18 sensor readings and store them in its member variable **obs_range_data**, which is then utilized in the update step."
   ]
  },
  {
   "cell_type": "code",
   "execution_count": 4,
   "metadata": {},
   "outputs": [],
   "source": [
    "class RealRobot():\n",
    "    \"\"\"A class to interact with the real robot\n",
    "    \"\"\"\n",
    "    def __init__(self, commander, ble):\n",
    "        # Load world config\n",
    "        self.world_config = os.path.join(str(pathlib.Path(os.getcwd()).parent), \"config\", \"world.yaml\")\n",
    "        \n",
    "        self.config_params = load_config_params(self.world_config)\n",
    "        \n",
    "        # Commander to commuincate with the Plotter process\n",
    "        # Used by the Localization module to plot odom and belief\n",
    "        self.cmdr = commander\n",
    "\n",
    "        # ArtemisBLEController to communicate with the Robot\n",
    "        self.ble = ble\n",
    "\n",
    "        # Arrays to store sensor readings\n",
    "        self.tof_reading = [] # stores distance in meters\n",
    "        self.yaw = []\n",
    "\n",
    "    def notification_handler(self, uuid, byte_array):\n",
    "        self.yaw.append(-((float) (self.ble.bytearray_to_string(byte_array).split(\", \")[0])))\n",
    "        self.tof_reading.append(((float) (self.ble.bytearray_to_string(byte_array).split(\", \")[2]))*0.001)\n",
    "    \n",
    "    def get_pose(self):\n",
    "        \"\"\"Get robot pose based on odometry\n",
    "        \n",
    "        Returns:\n",
    "            current_odom -- Odometry Pose (meters, meters, degrees)\n",
    "        \"\"\"\n",
    "        raise NotImplementedError(\"get_pose is not implemented\")\n",
    "\n",
    "    def perform_observation_loop(self, rot_vel=120):\n",
    "        \"\"\"Perform the observation loop behavior on the real robot, where the robot does  \n",
    "        a 360 degree turn in place while collecting equidistant (in the angular space) sensor\n",
    "        readings, with the first sensor reading taken at the robot's current heading. \n",
    "        The number of sensor readings depends on \"observations_count\"(=18) defined in world.yaml.\n",
    "        \n",
    "        Keyword arguments:\n",
    "            rot_vel -- (Optional) Angular Velocity for loop (degrees/second)\n",
    "                        Do not remove this parameter from the function definition, even if you don't use it.\n",
    "        Returns:\n",
    "            sensor_ranges   -- A column numpy array of the range values (meters)\n",
    "            sensor_bearings -- A column numpy array of the bearings at which the sensor readings were taken (degrees)\n",
    "                               The bearing values are not used in the Localization module, so you may return a empty numpy array\n",
    "        \"\"\"\n",
    "        # raise NotImplementedError(\"perform_observation_loop is not implemented\")\n",
    "\n",
    "        # Send commands via Bluetooth\n",
    "        self.ble.start_notify(ble.uuid['RX_STRING'], self.notification_handler)\n",
    "        self.ble.send_command(CMD.KP_SET, \"5\")\n",
    "        self.ble.send_command(CMD.KI_SET, \"0.01\")\n",
    "        self.ble.send_command(CMD.KD_SET, \"500\")\n",
    "\n",
    "        self.yaw.clear()\n",
    "        self.tof_reading.clear()\n",
    "        self.ble.send_command(CMD.START_MAPPING, \"\")\n",
    "        print(\"Starting observation...\")\n",
    "        \n",
    "        # Wait for the robot to complete a 360-degree observation\n",
    "        asyncio.run(asyncio.sleep(20))\n",
    "\n",
    "        self.ble.send_command(CMD.GET_DATA_MAP, \"\")\n",
    "        print(\"Obtaining sensor data...\")\n",
    "        asyncio.run(asyncio.sleep(5))\n",
    "\n",
    "        # Clockwise data -> Counter-clockwise data\n",
    "        self.tof_reading = [self.tof_reading[0]] + self.tof_reading[-2:0:-1]\n",
    "        self.yaw = [self.yaw[0]] + self.yaw[-2:0:-1]\n",
    "\n",
    "        # Convert into numpy column arrays\n",
    "        sensor_ranges = np.array(self.tof_reading)[np.newaxis].T\n",
    "        sensor_bearings = np.array(self.yaw)[np.newaxis].T\n",
    "        \n",
    "        return sensor_ranges, sensor_bearings"
   ]
  },
  {
   "cell_type": "code",
   "execution_count": 21,
   "metadata": {},
   "outputs": [
    {
     "name": "stdout",
     "output_type": "stream",
     "text": [
      "2024-04-30 16:48:03,131 |\u001b[32m INFO     \u001b[0m|: Looking for Artemis Nano Peripheral Device: c0:89:c5:6d:2f:4b\n",
      "2024-04-30 16:48:07,179 |\u001b[32m INFO     \u001b[0m|: Connected to c0:89:c5:6d:2f:4b\n"
     ]
    }
   ],
   "source": [
    "# Get ArtemisBLEController object\n",
    "ble = get_ble_controller()\n",
    "\n",
    "# Connect to the Artemis Device\n",
    "ble.connect()"
   ]
  },
  {
   "cell_type": "code",
   "execution_count": 6,
   "metadata": {},
   "outputs": [
    {
     "name": "stdout",
     "output_type": "stream",
     "text": [
      "2024-04-30 16:38:01,472 |\u001b[32m INFO     \u001b[0m|:  | Number of observations per grid cell: 18\n",
      "2024-04-30 16:38:01,481 |\u001b[32m INFO     \u001b[0m|:  | Precaching Views...\n"
     ]
    },
    {
     "name": "stderr",
     "output_type": "stream",
     "text": [
      "C:\\Users\\Kaiyuan\\Documents\\Cornell\\Courses\\Fast_Robots\\Project\\ble_python\\lab11_tasks\\localization.py:150: RuntimeWarning: All-NaN slice encountered\n",
      "  return np.nanmin(distance_intersections_tt), intersections_tt[np.nanargmin(distance_intersections_tt)]\n"
     ]
    },
    {
     "name": "stdout",
     "output_type": "stream",
     "text": [
      "2024-04-30 16:38:09,463 |\u001b[32m INFO     \u001b[0m|:  | Precaching Time: 7.982 secs\n",
      "2024-04-30 16:38:09,471 |\u001b[32m INFO     \u001b[0m|: Initializing beliefs with a Uniform Distribution\n",
      "2024-04-30 16:38:09,471 |\u001b[32m INFO     \u001b[0m|: Uniform Belief with each cell value: 0.00051440329218107\n"
     ]
    }
   ],
   "source": [
    "# Initialize RealRobot with a Commander object to communicate with the plotter process\n",
    "# and the ArtemisBLEController object to communicate with the real robot\n",
    "robot = RealRobot(cmdr, ble)\n",
    "\n",
    "# Initialize mapper\n",
    "# Requires a VirtualRobot object as a parameter\n",
    "mapper = Mapper(robot)\n",
    "\n",
    "# Initialize your BaseLocalization object\n",
    "# Requires a RealRobot object and a Mapper object as parameters\n",
    "loc = Localization(robot, mapper)\n",
    "\n",
    "## Plot Map\n",
    "cmdr.plot_map()"
   ]
  },
  {
   "cell_type": "markdown",
   "metadata": {},
   "source": [
    "# Run an update step of the Bayes Filter"
   ]
  },
  {
   "cell_type": "code",
   "execution_count": 22,
   "metadata": {},
   "outputs": [],
   "source": [
    "# Reset Plots\n",
    "cmdr.reset_plotter()\n",
    "\n",
    "# current_gt = [-0.91, -0.6]\n",
    "# current_gt = [1.52, -0.91]\n",
    "current_gt = [1.52, 0.91]\n",
    "cmdr.plot_gt(current_gt[0], current_gt[1])"
   ]
  },
  {
   "cell_type": "code",
   "execution_count": 23,
   "metadata": {},
   "outputs": [
    {
     "name": "stdout",
     "output_type": "stream",
     "text": [
      "2024-04-30 16:48:30,297 |\u001b[32m INFO     \u001b[0m|: Initializing beliefs with a Uniform Distribution\n",
      "2024-04-30 16:48:30,307 |\u001b[32m INFO     \u001b[0m|: Uniform Belief with each cell value: 0.00051440329218107\n",
      "Starting observation...\n",
      "Obtaining sensor data...\n",
      "2024-04-30 16:48:56,103 |\u001b[32m INFO     \u001b[0m|: Update Step\n",
      "2024-04-30 16:48:56,109 |\u001b[32m INFO     \u001b[0m|:      | Update Time: 0.006 secs\n",
      "2024-04-30 16:48:56,114 |\u001b[32m INFO     \u001b[0m|: Bel index     : (11, 6, 8) with prob = 1.0\n",
      "2024-04-30 16:48:56,116 |\u001b[32m INFO     \u001b[0m|: Bel_bar prob at index = 0.00051440329218107\n",
      "2024-04-30 16:48:56,117 |\u001b[32m INFO     \u001b[0m|: Belief        : (1.829, 0.610, -10.000)\n",
      "2024-04-30 16:49:18,017 |\u001b[32m INFO     \u001b[0m|: Disconnected from C0:89:C5:6D:2F:4B\n"
     ]
    }
   ],
   "source": [
    "# Init Uniform Belief\n",
    "loc.init_grid_beliefs()\n",
    "\n",
    "# Get Observation Data by executing a 360 degree rotation motion\n",
    "loc.get_observation_data()\n",
    "\n",
    "# Run Update Step\n",
    "loc.update_step()\n",
    "loc.plot_update_step_data(plot_data=True)\n",
    "\n",
    "# # Plot Odom and GT\n",
    "# # current_odom, current_gt = robot.get_pose()\n",
    "# current_gt = [1.65, 1]\n",
    "# cmdr.plot_gt(current_gt[0], current_gt[1])\n",
    "# # cmdr.plot_odom(current_odom[0], current_odom[1])"
   ]
  },
  {
   "cell_type": "code",
   "execution_count": null,
   "metadata": {},
   "outputs": [],
   "source": []
  }
 ],
 "metadata": {
  "kernelspec": {
   "display_name": "Python 3 (ipykernel)",
   "language": "python",
   "name": "python3"
  },
  "language_info": {
   "codemirror_mode": {
    "name": "ipython",
    "version": 3
   },
   "file_extension": ".py",
   "mimetype": "text/x-python",
   "name": "python",
   "nbconvert_exporter": "python",
   "pygments_lexer": "ipython3",
   "version": "3.10.0"
  }
 },
 "nbformat": 4,
 "nbformat_minor": 4
}
